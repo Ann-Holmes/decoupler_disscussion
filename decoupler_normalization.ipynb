{
 "cells": [
  {
   "cell_type": "code",
   "execution_count": 129,
   "id": "b4448a72-6467-4324-82c0-96d662f6f21e",
   "metadata": {},
   "outputs": [],
   "source": [
    "import scanpy as sc\n",
    "import decoupler as dc\n",
    "\n",
    "import matplotlib.pyplot as plt\n",
    "import seaborn as sns\n",
    "import numpy as np\n",
    "import warnings\n",
    "\n",
    "from sklearn.preprocessing import StandardScaler\n",
    "\n",
    "sc.settings.verbosity = 3\n",
    "sc.set_figure_params(figsize=(4, 4))\n",
    "warnings.simplefilter(\"ignore\", category=FutureWarning)\n",
    "warnings.simplefilter(\"ignore\", category=UserWarning)\n",
    "warnings.simplefilter(\"ignore\", category=DeprecationWarning)"
   ]
  },
  {
   "cell_type": "markdown",
   "id": "efc07b35-930e-4ebc-b1ba-8718d708045a",
   "metadata": {},
   "source": [
    "# Read data and restore `.raw`"
   ]
  },
  {
   "cell_type": "code",
   "execution_count": 130,
   "id": "35f1956a-7370-494c-8c83-b326967c9323",
   "metadata": {},
   "outputs": [
    {
     "data": {
      "text/plain": [
       "AnnData object with n_obs × n_vars = 2638 × 1838\n",
       "    obs: 'n_genes', 'percent_mito', 'n_counts', 'louvain'\n",
       "    var: 'n_cells'\n",
       "    uns: 'draw_graph', 'louvain', 'louvain_colors', 'neighbors', 'pca', 'rank_genes_groups'\n",
       "    obsm: 'X_pca', 'X_tsne', 'X_umap', 'X_draw_graph_fr'\n",
       "    varm: 'PCs'\n",
       "    obsp: 'distances', 'connectivities'"
      ]
     },
     "execution_count": 130,
     "metadata": {},
     "output_type": "execute_result"
    }
   ],
   "source": [
    "# adata = sc.datasets.pbmc3k_processed()\n",
    "adata = sc.read_h5ad(\"data/pbmc3k.h5ad\")\n",
    "adata"
   ]
  },
  {
   "cell_type": "code",
   "execution_count": 131,
   "id": "476b4e33-109b-4515-a74c-101bbce86ce1",
   "metadata": {},
   "outputs": [
    {
     "data": {
      "text/plain": [
       "AnnData object with n_obs × n_vars = 2638 × 13714\n",
       "    obs: 'n_genes', 'percent_mito', 'n_counts', 'louvain'\n",
       "    var: 'n_cells'\n",
       "    uns: 'draw_graph', 'louvain', 'louvain_colors', 'neighbors', 'pca', 'rank_genes_groups'\n",
       "    obsm: 'X_pca', 'X_tsne', 'X_umap', 'X_draw_graph_fr'\n",
       "    layers: 'log_counts'\n",
       "    obsp: 'distances', 'connectivities'"
      ]
     },
     "execution_count": 131,
     "metadata": {},
     "output_type": "execute_result"
    }
   ],
   "source": [
    "adata = adata.raw.to_adata()\n",
    "adata.layers[\"log_counts\"] = adata.X.copy()\n",
    "adata"
   ]
  },
  {
   "cell_type": "code",
   "execution_count": 132,
   "id": "37ac9114-d13b-46cb-b851-75f09b587c1e",
   "metadata": {},
   "outputs": [
    {
     "data": {
      "text/html": [
       "<div>\n",
       "<style scoped>\n",
       "    .dataframe tbody tr th:only-of-type {\n",
       "        vertical-align: middle;\n",
       "    }\n",
       "\n",
       "    .dataframe tbody tr th {\n",
       "        vertical-align: top;\n",
       "    }\n",
       "\n",
       "    .dataframe thead th {\n",
       "        text-align: right;\n",
       "    }\n",
       "</style>\n",
       "<table border=\"1\" class=\"dataframe\">\n",
       "  <thead>\n",
       "    <tr style=\"text-align: right;\">\n",
       "      <th></th>\n",
       "      <th>source</th>\n",
       "      <th>target</th>\n",
       "      <th>weight</th>\n",
       "      <th>p_value</th>\n",
       "    </tr>\n",
       "  </thead>\n",
       "  <tbody>\n",
       "    <tr>\n",
       "      <th>0</th>\n",
       "      <td>Androgen</td>\n",
       "      <td>TMPRSS2</td>\n",
       "      <td>11.490631</td>\n",
       "      <td>0.000000e+00</td>\n",
       "    </tr>\n",
       "    <tr>\n",
       "      <th>1</th>\n",
       "      <td>Androgen</td>\n",
       "      <td>NKX3-1</td>\n",
       "      <td>10.622551</td>\n",
       "      <td>2.242078e-44</td>\n",
       "    </tr>\n",
       "    <tr>\n",
       "      <th>2</th>\n",
       "      <td>Androgen</td>\n",
       "      <td>MBOAT2</td>\n",
       "      <td>10.472733</td>\n",
       "      <td>4.624285e-44</td>\n",
       "    </tr>\n",
       "    <tr>\n",
       "      <th>3</th>\n",
       "      <td>Androgen</td>\n",
       "      <td>KLK2</td>\n",
       "      <td>10.176186</td>\n",
       "      <td>1.944414e-40</td>\n",
       "    </tr>\n",
       "    <tr>\n",
       "      <th>4</th>\n",
       "      <td>Androgen</td>\n",
       "      <td>SARG</td>\n",
       "      <td>11.386852</td>\n",
       "      <td>2.790209e-40</td>\n",
       "    </tr>\n",
       "    <tr>\n",
       "      <th>...</th>\n",
       "      <td>...</td>\n",
       "      <td>...</td>\n",
       "      <td>...</td>\n",
       "      <td>...</td>\n",
       "    </tr>\n",
       "    <tr>\n",
       "      <th>1395</th>\n",
       "      <td>p53</td>\n",
       "      <td>CCDC150</td>\n",
       "      <td>-3.174527</td>\n",
       "      <td>7.396252e-13</td>\n",
       "    </tr>\n",
       "    <tr>\n",
       "      <th>1396</th>\n",
       "      <td>p53</td>\n",
       "      <td>LCE1A</td>\n",
       "      <td>6.154823</td>\n",
       "      <td>8.475458e-13</td>\n",
       "    </tr>\n",
       "    <tr>\n",
       "      <th>1397</th>\n",
       "      <td>p53</td>\n",
       "      <td>TREM2</td>\n",
       "      <td>4.101937</td>\n",
       "      <td>9.739648e-13</td>\n",
       "    </tr>\n",
       "    <tr>\n",
       "      <th>1398</th>\n",
       "      <td>p53</td>\n",
       "      <td>GDF9</td>\n",
       "      <td>3.355741</td>\n",
       "      <td>1.087433e-12</td>\n",
       "    </tr>\n",
       "    <tr>\n",
       "      <th>1399</th>\n",
       "      <td>p53</td>\n",
       "      <td>NHLH2</td>\n",
       "      <td>2.201638</td>\n",
       "      <td>1.651582e-12</td>\n",
       "    </tr>\n",
       "  </tbody>\n",
       "</table>\n",
       "<p>1400 rows × 4 columns</p>\n",
       "</div>"
      ],
      "text/plain": [
       "        source   target     weight       p_value\n",
       "0     Androgen  TMPRSS2  11.490631  0.000000e+00\n",
       "1     Androgen   NKX3-1  10.622551  2.242078e-44\n",
       "2     Androgen   MBOAT2  10.472733  4.624285e-44\n",
       "3     Androgen     KLK2  10.176186  1.944414e-40\n",
       "4     Androgen     SARG  11.386852  2.790209e-40\n",
       "...        ...      ...        ...           ...\n",
       "1395       p53  CCDC150  -3.174527  7.396252e-13\n",
       "1396       p53    LCE1A   6.154823  8.475458e-13\n",
       "1397       p53    TREM2   4.101937  9.739648e-13\n",
       "1398       p53     GDF9   3.355741  1.087433e-12\n",
       "1399       p53    NHLH2   2.201638  1.651582e-12\n",
       "\n",
       "[1400 rows x 4 columns]"
      ]
     },
     "execution_count": 132,
     "metadata": {},
     "output_type": "execute_result"
    }
   ],
   "source": [
    "model = dc.get_progeny(organism='human', top=100)\n",
    "model"
   ]
  },
  {
   "cell_type": "markdown",
   "id": "3a4db7ac-d71e-4a86-93d2-fcd89c4a3997",
   "metadata": {},
   "source": [
    "# Run decoupler with log_counts\n",
    "\n",
    "use `dc.run_mlm`"
   ]
  },
  {
   "cell_type": "code",
   "execution_count": 133,
   "id": "4efe623a-4290-40a4-860e-b2dd5058b7db",
   "metadata": {},
   "outputs": [
    {
     "name": "stdout",
     "output_type": "stream",
     "text": [
      "1 features of mat are empty, they will be removed.\n",
      "Running mlm on mat with 2638 samples and 13713 targets for 14 sources.\n"
     ]
    },
    {
     "name": "stderr",
     "output_type": "stream",
     "text": [
      "100%|██████████████████████████████████████████████████████████████████████████████████████████████████████████████| 1/1 [00:00<00:00,  1.52it/s]\n"
     ]
    }
   ],
   "source": [
    "adata.X = adata.layers[\"log_counts\"].copy()\n",
    "dc.run_mlm(mat=adata, net=model, source='source', target='target', weight='weight', use_raw=False, verbose=True)"
   ]
  },
  {
   "cell_type": "code",
   "execution_count": 134,
   "id": "d95b0885-7ac7-40fa-bdff-f6ff3f633c4c",
   "metadata": {},
   "outputs": [],
   "source": [
    "adata.obsm[\"log_counts_mlm_estimate\"] = adata.obsm[\"mlm_estimate\"]\n",
    "adata.obsm[\"log_counts_mlm_pvals\"] = adata.obsm[\"mlm_pvals\"]"
   ]
  },
  {
   "cell_type": "code",
   "execution_count": 135,
   "id": "cbb8c176-fd7d-49f0-8018-c8dd0dcfdce9",
   "metadata": {},
   "outputs": [
    {
     "data": {
      "text/html": [
       "<div>\n",
       "<style scoped>\n",
       "    .dataframe tbody tr th:only-of-type {\n",
       "        vertical-align: middle;\n",
       "    }\n",
       "\n",
       "    .dataframe tbody tr th {\n",
       "        vertical-align: top;\n",
       "    }\n",
       "\n",
       "    .dataframe thead th {\n",
       "        text-align: right;\n",
       "    }\n",
       "</style>\n",
       "<table border=\"1\" class=\"dataframe\">\n",
       "  <thead>\n",
       "    <tr style=\"text-align: right;\">\n",
       "      <th></th>\n",
       "      <th>Androgen</th>\n",
       "      <th>EGFR</th>\n",
       "      <th>Estrogen</th>\n",
       "      <th>Hypoxia</th>\n",
       "      <th>JAK-STAT</th>\n",
       "    </tr>\n",
       "  </thead>\n",
       "  <tbody>\n",
       "    <tr>\n",
       "      <th>AAACATACAACCAC-1</th>\n",
       "      <td>-0.250004</td>\n",
       "      <td>1.082446</td>\n",
       "      <td>-0.283717</td>\n",
       "      <td>0.018847</td>\n",
       "      <td>-1.101526</td>\n",
       "    </tr>\n",
       "    <tr>\n",
       "      <th>AAACATTGAGCTAC-1</th>\n",
       "      <td>0.055699</td>\n",
       "      <td>1.808353</td>\n",
       "      <td>-0.639859</td>\n",
       "      <td>0.547163</td>\n",
       "      <td>0.053690</td>\n",
       "    </tr>\n",
       "    <tr>\n",
       "      <th>AAACATTGATCAGC-1</th>\n",
       "      <td>-1.300669</td>\n",
       "      <td>1.093902</td>\n",
       "      <td>-1.423962</td>\n",
       "      <td>0.862988</td>\n",
       "      <td>0.770645</td>\n",
       "    </tr>\n",
       "    <tr>\n",
       "      <th>AAACCGTGCTTCCG-1</th>\n",
       "      <td>-1.108973</td>\n",
       "      <td>0.623916</td>\n",
       "      <td>-0.533218</td>\n",
       "      <td>0.456434</td>\n",
       "      <td>5.369927</td>\n",
       "    </tr>\n",
       "    <tr>\n",
       "      <th>AAACCGTGTATGCG-1</th>\n",
       "      <td>-0.020885</td>\n",
       "      <td>-0.934698</td>\n",
       "      <td>0.113905</td>\n",
       "      <td>0.480329</td>\n",
       "      <td>2.008395</td>\n",
       "    </tr>\n",
       "  </tbody>\n",
       "</table>\n",
       "</div>"
      ],
      "text/plain": [
       "                  Androgen      EGFR  Estrogen   Hypoxia  JAK-STAT\n",
       "AAACATACAACCAC-1 -0.250004  1.082446 -0.283717  0.018847 -1.101526\n",
       "AAACATTGAGCTAC-1  0.055699  1.808353 -0.639859  0.547163  0.053690\n",
       "AAACATTGATCAGC-1 -1.300669  1.093902 -1.423962  0.862988  0.770645\n",
       "AAACCGTGCTTCCG-1 -1.108973  0.623916 -0.533218  0.456434  5.369927\n",
       "AAACCGTGTATGCG-1 -0.020885 -0.934698  0.113905  0.480329  2.008395"
      ]
     },
     "execution_count": 135,
     "metadata": {},
     "output_type": "execute_result"
    }
   ],
   "source": [
    "adata.obsm[\"log_counts_mlm_estimate\"].iloc[:5, :5]"
   ]
  },
  {
   "cell_type": "markdown",
   "id": "02579af7-7e7c-43b9-919f-9f7212c7412e",
   "metadata": {},
   "source": [
    "# Run decoupler with zscaled_counts\n",
    "\n",
    "use `dc.run_mlm`, too"
   ]
  },
  {
   "cell_type": "code",
   "execution_count": 136,
   "id": "780819b3-49e8-4d7a-b229-d12a668b0137",
   "metadata": {},
   "outputs": [
    {
     "name": "stdout",
     "output_type": "stream",
     "text": [
      "1 features of mat are empty, they will be removed.\n",
      "Running mlm on mat with 2638 samples and 13713 targets for 14 sources.\n"
     ]
    },
    {
     "name": "stderr",
     "output_type": "stream",
     "text": [
      "100%|██████████████████████████████████████████████████████████████████████████████████████████████████████████████| 1/1 [00:00<00:00,  1.33it/s]\n"
     ]
    }
   ],
   "source": [
    "adata.X = StandardScaler().fit_transform(np.expm1(adata.layers[\"log_counts\"].toarray()))\n",
    "dc.run_mlm(mat=adata, net=model, source='source', target='target', weight='weight', use_raw=False, verbose=True)"
   ]
  },
  {
   "cell_type": "code",
   "execution_count": 137,
   "id": "b751dfa9-1c34-4b35-b777-836d0a233449",
   "metadata": {},
   "outputs": [],
   "source": [
    "adata.obsm[\"zscaled_mlm_estimate\"] = adata.obsm[\"mlm_estimate\"]\n",
    "adata.obsm[\"zscaled_counts_mlm_pvals\"] = adata.obsm[\"mlm_pvals\"]"
   ]
  },
  {
   "cell_type": "code",
   "execution_count": 138,
   "id": "cd61a481-0057-4c18-8404-9e584dc8d6cb",
   "metadata": {},
   "outputs": [
    {
     "data": {
      "text/html": [
       "<div>\n",
       "<style scoped>\n",
       "    .dataframe tbody tr th:only-of-type {\n",
       "        vertical-align: middle;\n",
       "    }\n",
       "\n",
       "    .dataframe tbody tr th {\n",
       "        vertical-align: top;\n",
       "    }\n",
       "\n",
       "    .dataframe thead th {\n",
       "        text-align: right;\n",
       "    }\n",
       "</style>\n",
       "<table border=\"1\" class=\"dataframe\">\n",
       "  <thead>\n",
       "    <tr style=\"text-align: right;\">\n",
       "      <th></th>\n",
       "      <th>Androgen</th>\n",
       "      <th>EGFR</th>\n",
       "      <th>Estrogen</th>\n",
       "      <th>Hypoxia</th>\n",
       "      <th>JAK-STAT</th>\n",
       "    </tr>\n",
       "  </thead>\n",
       "  <tbody>\n",
       "    <tr>\n",
       "      <th>AAACATACAACCAC-1</th>\n",
       "      <td>1.028017</td>\n",
       "      <td>0.372965</td>\n",
       "      <td>-0.088143</td>\n",
       "      <td>0.323772</td>\n",
       "      <td>-1.788776</td>\n",
       "    </tr>\n",
       "    <tr>\n",
       "      <th>AAACATTGAGCTAC-1</th>\n",
       "      <td>0.399224</td>\n",
       "      <td>1.233052</td>\n",
       "      <td>-0.272808</td>\n",
       "      <td>-0.306251</td>\n",
       "      <td>-1.185899</td>\n",
       "    </tr>\n",
       "    <tr>\n",
       "      <th>AAACATTGATCAGC-1</th>\n",
       "      <td>-0.792074</td>\n",
       "      <td>1.111080</td>\n",
       "      <td>-1.434491</td>\n",
       "      <td>0.127331</td>\n",
       "      <td>-0.441286</td>\n",
       "    </tr>\n",
       "    <tr>\n",
       "      <th>AAACCGTGCTTCCG-1</th>\n",
       "      <td>-0.761711</td>\n",
       "      <td>-0.623148</td>\n",
       "      <td>-0.047732</td>\n",
       "      <td>0.697356</td>\n",
       "      <td>2.724582</td>\n",
       "    </tr>\n",
       "    <tr>\n",
       "      <th>AAACCGTGTATGCG-1</th>\n",
       "      <td>1.166387</td>\n",
       "      <td>-2.516185</td>\n",
       "      <td>0.721634</td>\n",
       "      <td>0.506971</td>\n",
       "      <td>-0.380416</td>\n",
       "    </tr>\n",
       "  </tbody>\n",
       "</table>\n",
       "</div>"
      ],
      "text/plain": [
       "                  Androgen      EGFR  Estrogen   Hypoxia  JAK-STAT\n",
       "AAACATACAACCAC-1  1.028017  0.372965 -0.088143  0.323772 -1.788776\n",
       "AAACATTGAGCTAC-1  0.399224  1.233052 -0.272808 -0.306251 -1.185899\n",
       "AAACATTGATCAGC-1 -0.792074  1.111080 -1.434491  0.127331 -0.441286\n",
       "AAACCGTGCTTCCG-1 -0.761711 -0.623148 -0.047732  0.697356  2.724582\n",
       "AAACCGTGTATGCG-1  1.166387 -2.516185  0.721634  0.506971 -0.380416"
      ]
     },
     "execution_count": 138,
     "metadata": {},
     "output_type": "execute_result"
    }
   ],
   "source": [
    "adata.obsm[\"zscaled_mlm_estimate\"].iloc[:5, :5]"
   ]
  },
  {
   "cell_type": "markdown",
   "id": "4b25dfbc-23dc-4f06-9901-143f5243b885",
   "metadata": {},
   "source": [
    "# Run decoupler with zscaled_log_counts\n",
    "\n",
    "use `dc.run_mlm`, too"
   ]
  },
  {
   "cell_type": "code",
   "execution_count": 139,
   "id": "c622fa9b-a138-492c-b6e9-5d62be1b59e9",
   "metadata": {},
   "outputs": [
    {
     "name": "stdout",
     "output_type": "stream",
     "text": [
      "1 features of mat are empty, they will be removed.\n",
      "Running mlm on mat with 2638 samples and 13713 targets for 14 sources.\n"
     ]
    },
    {
     "name": "stderr",
     "output_type": "stream",
     "text": [
      "100%|██████████████████████████████████████████████████████████████████████████████████████████████████████████████| 1/1 [00:00<00:00,  1.39it/s]\n"
     ]
    }
   ],
   "source": [
    "adata.X = StandardScaler().fit_transform(adata.layers[\"log_counts\"].toarray())\n",
    "dc.run_mlm(mat=adata, net=model, source='source', target='target', weight='weight', use_raw=False, verbose=True)"
   ]
  },
  {
   "cell_type": "code",
   "execution_count": 140,
   "id": "1144d707-989d-404a-8e46-f3a03d8d1d89",
   "metadata": {},
   "outputs": [],
   "source": [
    "adata.obsm[\"zscaled_log_counts_mlm_estimate\"] = adata.obsm[\"mlm_estimate\"]\n",
    "adata.obsm[\"zscaled_log_counts_mlm_pvals\"] = adata.obsm[\"mlm_pvals\"]"
   ]
  },
  {
   "cell_type": "code",
   "execution_count": 141,
   "id": "ccdfe205-8a91-464f-9411-0685629ec678",
   "metadata": {},
   "outputs": [
    {
     "data": {
      "text/html": [
       "<div>\n",
       "<style scoped>\n",
       "    .dataframe tbody tr th:only-of-type {\n",
       "        vertical-align: middle;\n",
       "    }\n",
       "\n",
       "    .dataframe tbody tr th {\n",
       "        vertical-align: top;\n",
       "    }\n",
       "\n",
       "    .dataframe thead th {\n",
       "        text-align: right;\n",
       "    }\n",
       "</style>\n",
       "<table border=\"1\" class=\"dataframe\">\n",
       "  <thead>\n",
       "    <tr style=\"text-align: right;\">\n",
       "      <th></th>\n",
       "      <th>Androgen</th>\n",
       "      <th>EGFR</th>\n",
       "      <th>Estrogen</th>\n",
       "      <th>Hypoxia</th>\n",
       "      <th>JAK-STAT</th>\n",
       "    </tr>\n",
       "  </thead>\n",
       "  <tbody>\n",
       "    <tr>\n",
       "      <th>AAACATACAACCAC-1</th>\n",
       "      <td>1.273499</td>\n",
       "      <td>0.539059</td>\n",
       "      <td>0.150309</td>\n",
       "      <td>0.313245</td>\n",
       "      <td>-2.431031</td>\n",
       "    </tr>\n",
       "    <tr>\n",
       "      <th>AAACATTGAGCTAC-1</th>\n",
       "      <td>0.602056</td>\n",
       "      <td>1.708841</td>\n",
       "      <td>-0.327246</td>\n",
       "      <td>-0.015498</td>\n",
       "      <td>-1.374125</td>\n",
       "    </tr>\n",
       "    <tr>\n",
       "      <th>AAACATTGATCAGC-1</th>\n",
       "      <td>-0.943165</td>\n",
       "      <td>1.072075</td>\n",
       "      <td>-1.580218</td>\n",
       "      <td>0.084604</td>\n",
       "      <td>-0.379241</td>\n",
       "    </tr>\n",
       "    <tr>\n",
       "      <th>AAACCGTGCTTCCG-1</th>\n",
       "      <td>-0.881047</td>\n",
       "      <td>-0.578264</td>\n",
       "      <td>-0.103478</td>\n",
       "      <td>0.852448</td>\n",
       "      <td>3.470078</td>\n",
       "    </tr>\n",
       "    <tr>\n",
       "      <th>AAACCGTGTATGCG-1</th>\n",
       "      <td>1.282600</td>\n",
       "      <td>-2.897524</td>\n",
       "      <td>0.950830</td>\n",
       "      <td>0.660910</td>\n",
       "      <td>-0.178160</td>\n",
       "    </tr>\n",
       "  </tbody>\n",
       "</table>\n",
       "</div>"
      ],
      "text/plain": [
       "                  Androgen      EGFR  Estrogen   Hypoxia  JAK-STAT\n",
       "AAACATACAACCAC-1  1.273499  0.539059  0.150309  0.313245 -2.431031\n",
       "AAACATTGAGCTAC-1  0.602056  1.708841 -0.327246 -0.015498 -1.374125\n",
       "AAACATTGATCAGC-1 -0.943165  1.072075 -1.580218  0.084604 -0.379241\n",
       "AAACCGTGCTTCCG-1 -0.881047 -0.578264 -0.103478  0.852448  3.470078\n",
       "AAACCGTGTATGCG-1  1.282600 -2.897524  0.950830  0.660910 -0.178160"
      ]
     },
     "execution_count": 141,
     "metadata": {},
     "output_type": "execute_result"
    }
   ],
   "source": [
    "adata.obsm[\"zscaled_log_counts_mlm_estimate\"].iloc[:5, :5]"
   ]
  },
  {
   "cell_type": "markdown",
   "id": "586e89f4-05e1-4dc2-8ec4-a060fe966450",
   "metadata": {},
   "source": [
    "# The activity correlation computed by log_counts and zcaled_counts"
   ]
  },
  {
   "cell_type": "code",
   "execution_count": 142,
   "id": "c7302bb2-02c2-48d7-ae73-0890c44fa420",
   "metadata": {},
   "outputs": [
    {
     "data": {
      "text/plain": [
       "Androgen    0.799440\n",
       "EGFR        0.766055\n",
       "Estrogen    0.722386\n",
       "Hypoxia     0.718415\n",
       "JAK-STAT    0.908440\n",
       "MAPK        0.716142\n",
       "NFkB        0.649712\n",
       "PI3K        0.771973\n",
       "TGFb        0.818348\n",
       "TNFa        0.642214\n",
       "Trail       0.687261\n",
       "VEGF        0.615875\n",
       "WNT         0.653141\n",
       "p53         0.813411\n",
       "dtype: float64"
      ]
     },
     "execution_count": 142,
     "metadata": {},
     "output_type": "execute_result"
    }
   ],
   "source": [
    "adata.obsm[\"zscaled_mlm_estimate\"].corrwith(adata.obsm[\"log_counts_mlm_estimate\"], axis=0, method=\"pearson\")"
   ]
  },
  {
   "cell_type": "markdown",
   "id": "cb28e690-5d17-4cf5-9f63-e9a5a13ae1ff",
   "metadata": {},
   "source": [
    "# The activity correlation computed by log_counts and zcaled_log_counts"
   ]
  },
  {
   "cell_type": "code",
   "execution_count": 143,
   "id": "8f3c79e4-e794-43d4-a8b1-8c63689d9293",
   "metadata": {},
   "outputs": [
    {
     "data": {
      "text/plain": [
       "Androgen    0.864412\n",
       "EGFR        0.830156\n",
       "Estrogen    0.783813\n",
       "Hypoxia     0.768761\n",
       "JAK-STAT    0.965310\n",
       "MAPK        0.786431\n",
       "NFkB        0.727709\n",
       "PI3K        0.835296\n",
       "TGFb        0.843625\n",
       "TNFa        0.727131\n",
       "Trail       0.774298\n",
       "VEGF        0.668668\n",
       "WNT         0.718179\n",
       "p53         0.862346\n",
       "dtype: float64"
      ]
     },
     "execution_count": 143,
     "metadata": {},
     "output_type": "execute_result"
    }
   ],
   "source": [
    "adata.obsm[\"zscaled_log_counts_mlm_estimate\"].corrwith(adata.obsm[\"log_counts_mlm_estimate\"], axis=0, method=\"pearson\")"
   ]
  },
  {
   "cell_type": "markdown",
   "id": "2fa324ac-3007-43e3-8a52-e55fcd7df747",
   "metadata": {},
   "source": [
    "# The activity correlation computed by zscaled_counts and zcaled_log_counts"
   ]
  },
  {
   "cell_type": "code",
   "execution_count": 144,
   "id": "a1a0cb3e-a274-44cf-afea-7662212fce64",
   "metadata": {},
   "outputs": [
    {
     "data": {
      "text/plain": [
       "Androgen    0.958007\n",
       "EGFR        0.963163\n",
       "Estrogen    0.963415\n",
       "Hypoxia     0.974902\n",
       "JAK-STAT    0.955867\n",
       "MAPK        0.966529\n",
       "NFkB        0.930859\n",
       "PI3K        0.953268\n",
       "TGFb        0.985438\n",
       "TNFa        0.927248\n",
       "Trail       0.953857\n",
       "VEGF        0.981271\n",
       "WNT         0.955993\n",
       "p53         0.965798\n",
       "dtype: float64"
      ]
     },
     "execution_count": 144,
     "metadata": {},
     "output_type": "execute_result"
    }
   ],
   "source": [
    "adata.obsm[\"zscaled_log_counts_mlm_estimate\"].corrwith(adata.obsm[\"zscaled_mlm_estimate\"], axis=0, method=\"pearson\")"
   ]
  },
  {
   "cell_type": "code",
   "execution_count": null,
   "id": "80d29b22-ddfc-4b9c-b6c8-fe943eeb2ac2",
   "metadata": {},
   "outputs": [],
   "source": []
  }
 ],
 "metadata": {
  "kernelspec": {
   "display_name": "Python 3 (ipykernel)",
   "language": "python",
   "name": "python3"
  },
  "language_info": {
   "codemirror_mode": {
    "name": "ipython",
    "version": 3
   },
   "file_extension": ".py",
   "mimetype": "text/x-python",
   "name": "python",
   "nbconvert_exporter": "python",
   "pygments_lexer": "ipython3",
   "version": "3.8.13"
  },
  "vscode": {
   "interpreter": {
    "hash": "d864f23284509d850032f53519c0109bca6765d875ea3d12e233759ff854380c"
   }
  }
 },
 "nbformat": 4,
 "nbformat_minor": 5
}
